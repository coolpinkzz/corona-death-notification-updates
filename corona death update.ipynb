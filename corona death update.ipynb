{
 "cells": [
  {
   "cell_type": "code",
   "execution_count": 86,
   "metadata": {},
   "outputs": [
    {
     "name": "stdout",
     "output_type": "stream",
     "text": [
      "Andhra0\n",
      "Bihar1\n",
      "Chhattisgarh0\n",
      "Delhi1\n",
      "Gujarat1\n",
      "Haryana0\n",
      "Himachal1\n",
      "Karnataka1\n",
      "Kerala0\n",
      "Madhya0\n",
      "Maharashtra3\n",
      "Manipur0\n",
      "Mizoram0\n",
      "Odisha0\n",
      "Puducherry0\n",
      "Punjab1\n",
      "Rajasthan0\n",
      "Tamil0\n",
      "Telengana0\n",
      "Chandigarh0\n",
      "Jammu0\n",
      "Ladakh0\n",
      "Uttar0\n",
      "Uttarakhand0\n",
      "West1\n",
      "number10\n",
      "\n"
     ]
    }
   ],
   "source": [
    "from plyer import notification\n",
    "import requests\n",
    "from bs4 import BeautifulSoup\n",
    "\n",
    "\n",
    "def notifyme(title, message):\n",
    "    notification.notify(\n",
    "    title=title,\n",
    "    message= message,\n",
    "    app_icon = None,\n",
    "    timeout=15\n",
    "    )\n",
    "def getdata(url):\n",
    "    r=requests.get(url)\n",
    "    return r.text\n",
    "\n",
    "if __name__ == '__main__':\n",
    "    \n",
    "    myhtmldata=getdata('https://www.mohfw.gov.in/')\n",
    "    \n",
    "    \n",
    "    \n",
    "    \n",
    "    soup = BeautifulSoup(myhtmldata, 'html.parser')\n",
    "    states=['Rajasthan','Delhi','Uttar']\n",
    "    \n",
    "    p=''\n",
    "    \n",
    "    for tr in soup.find_all('tbody')[7].find_all('tr'):\n",
    "        \n",
    "        \n",
    "        stri=(tr.get_text())\n",
    "        data=stri.split()\n",
    "        p+=data[1]+data[-1]+'\\n'\n",
    "        \n",
    "    print(p)\n",
    "    n=f\"{p}\"\n",
    "    notifyme('corona update',n)\n",
    "        \n",
    "       \n",
    "       \n",
    "\n",
    "  \n",
    "        \n",
    "\n",
    "    "
   ]
  },
  {
   "cell_type": "code",
   "execution_count": 35,
   "metadata": {},
   "outputs": [
    {
     "data": {
      "text/plain": [
       "str"
      ]
     },
     "execution_count": 35,
     "metadata": {},
     "output_type": "execute_result"
    }
   ],
   "source": [
    "type(tr.get_text())"
   ]
  },
  {
   "cell_type": "code",
   "execution_count": 33,
   "metadata": {},
   "outputs": [
    {
     "name": "stdout",
     "output_type": "stream",
     "text": [
      "['Total', 'number', 'of', 'confirmed', 'cases', 'in', 'India', '519', '43', '41', '9#']\n"
     ]
    }
   ],
   "source": [
    "data=tr.get_text()\n",
    "print(data.split())"
   ]
  },
  {
   "cell_type": "code",
   "execution_count": null,
   "metadata": {},
   "outputs": [],
   "source": []
  }
 ],
 "metadata": {
  "kernelspec": {
   "display_name": "Python 3",
   "language": "python",
   "name": "python3"
  },
  "language_info": {
   "codemirror_mode": {
    "name": "ipython",
    "version": 3
   },
   "file_extension": ".py",
   "mimetype": "text/x-python",
   "name": "python",
   "nbconvert_exporter": "python",
   "pygments_lexer": "ipython3",
   "version": "3.7.4"
  }
 },
 "nbformat": 4,
 "nbformat_minor": 2
}
